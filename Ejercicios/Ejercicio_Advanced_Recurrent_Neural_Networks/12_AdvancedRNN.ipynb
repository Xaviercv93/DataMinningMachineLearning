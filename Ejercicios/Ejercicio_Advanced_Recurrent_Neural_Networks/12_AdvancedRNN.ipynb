{
  "cells": [
    {
      "cell_type": "markdown",
      "source": [
        "# 12 Advanced Recurrent Neural Networks\n",
        "\n",
        "Advanced Neural Network architectures represent significant advancements in the field of deep learning, which are most used in the domain of sequence modeling and processing. These architectures build upon the traditional feedforward neural networks and introduce recurrent connections, allowing them to exhibit temporal dynamics and memory capabilities.\n",
        "\n",
        "* The Elman RNN employs a simple recurrent loop in its hidden layer, enabling it to capture short-term temporal dependencies, making it suitable for applications such as speech recognition and time series analysis.\n",
        "* The Jordan RNN possesses feedback connections from the output layer to the hidden layer, rendering it capable of modeling longer-term dependencies, which finds applications in machine translation and language modeling tasks.\n",
        "* The Bidirectional RNN combines both forward and backward temporal processing, allowing it to consider both past and future context in its predictions, making it effective in natural language processing tasks such as sentiment analysis and named entity recognition.\n",
        "\n",
        "These advanced neural network architectures significantly expand the modeling capabilities of traditional neural networks and have become indispensable tools in various sequential data processing applications."
      ],
      "metadata": {
        "collapsed": false,
        "id": "MTwgAuy_YBPM"
      }
    },
    {
      "cell_type": "markdown",
      "source": [
        "### Exercise\n",
        "Use the IMDB movie reviews dataset to perform sentiment analysis with a Elman, Jordan and Bidirectional RNN.\n",
        "Highlight the differences on the performance of each architecture."
      ],
      "metadata": {
        "collapsed": false,
        "id": "9CYR1o4IYBPQ"
      }
    },
    {
      "cell_type": "code",
      "execution_count": 4,
      "metadata": {
        "collapsed": true,
        "id": "fCdWGqFjYBPQ"
      },
      "outputs": [],
      "source": [
        "from datetime import datetime, timezone, timedelta\n",
        "from keras.datasets import imdb\n",
        "#from keras.preprocessing import sequence\n",
        "from tensorflow.keras.preprocessing import sequence\n",
        "from keras.models import Sequential\n",
        "from keras.layers import Embedding, SimpleRNN, Dense, Bidirectional, Flatten, TimeDistributed, GlobalMaxPool1D"
      ]
    },
    {
      "cell_type": "markdown",
      "source": [
        "1. Load the IMDB movie reviews dataset"
      ],
      "metadata": {
        "collapsed": false,
        "id": "PYs1Q1VpYBPS"
      }
    },
    {
      "cell_type": "code",
      "execution_count": 5,
      "outputs": [],
      "source": [
        "max_features = 5000  # Number of words to consider as features\n",
        "max_len_short = 100  # Maximum sequence length for short sequences\n",
        "max_len_long = 500   # Maximum sequence length for long sequences\n",
        "\n",
        "(x_train, y_train), (x_test, y_test) = imdb.load_data(num_words=max_features)"
      ],
      "metadata": {
        "id": "Wgqq1uq1YBPS"
      }
    },
    {
      "cell_type": "markdown",
      "source": [
        "2. Pad sequences to a fixed length for RNN input"
      ],
      "metadata": {
        "collapsed": false,
        "id": "8odkdR86YBPT"
      }
    },
    {
      "cell_type": "code",
      "execution_count": 6,
      "outputs": [],
      "source": [
        "x_train_short = sequence.pad_sequences(x_train, maxlen=max_len_short)\n",
        "x_test_short = sequence.pad_sequences(x_test, maxlen=max_len_short)\n",
        "\n",
        "x_train_long = sequence.pad_sequences(x_train, maxlen=max_len_long)\n",
        "x_test_long = sequence.pad_sequences(x_test, maxlen=max_len_long)"
      ],
      "metadata": {
        "id": "IHQqIE5wYBPT"
      }
    },
    {
      "cell_type": "markdown",
      "source": [
        "3. Build the distinct RNN models"
      ],
      "metadata": {
        "collapsed": false,
        "id": "aqoSEko5YBPT"
      }
    },
    {
      "cell_type": "code",
      "execution_count": 7,
      "outputs": [],
      "source": [
        "def build_elman_rnn_model():\n",
        "    model = Sequential()\n",
        "    model.add(Embedding(max_features, 32))\n",
        "    model.add(SimpleRNN(32, activation='relu'))\n",
        "    model.add(Dense(1, activation='sigmoid'))\n",
        "    return model\n",
        "\n",
        "def build_jordan_rnn_model():\n",
        "    model = Sequential()\n",
        "    model.add(Embedding(max_features, 32))\n",
        "    model.add(SimpleRNN(32, activation='relu', return_sequences=True))\n",
        "    #model.add(Flatten())  # Agrega una capa Flatten\n",
        "    #model.add(TimeDistributed(Dense(1, activation='sigmoid')))  # Capa de salida con distribución temporal\n",
        "    model.add(GlobalMaxPool1D())\n",
        "    model.add(Dense(1, activation='sigmoid'))\n",
        "    return model\n",
        "\n",
        "def build_bidirectional_rnn_model():\n",
        "    model = Sequential()\n",
        "    model.add(Embedding(max_features, 32))\n",
        "    model.add(Bidirectional(SimpleRNN(32, activation='relu')))\n",
        "    model.add(Dense(1, activation='sigmoid'))\n",
        "    return model"
      ],
      "metadata": {
        "id": "C8nsX3OGYBPU"
      }
    },
    {
      "cell_type": "markdown",
      "source": [
        "4. Train and evaluate the RNN model"
      ],
      "metadata": {
        "collapsed": false,
        "id": "1c_1exPGYBPU"
      }
    },
    {
      "cell_type": "code",
      "execution_count": 8,
      "outputs": [],
      "source": [
        "def train_and_evaluate_model(model, x_train, y_train, x_test, y_test):\n",
        "    model.compile(optimizer='adam', loss='binary_crossentropy', metrics=['accuracy'])\n",
        "    history = model.fit(x_train, y_train, epochs=5, batch_size=128, validation_split=0.2)\n",
        "    loss, accuracy = model.evaluate(x_test, y_test)\n",
        "    return loss, accuracy, history"
      ],
      "metadata": {
        "id": "2xTu5JMpYBPV"
      }
    },
    {
      "cell_type": "markdown",
      "source": [
        "5. Train and evaluate the Elman RNN model on short sequences\n",
        "\n"
      ],
      "metadata": {
        "collapsed": false,
        "id": "Z18GTllqYBPV"
      }
    },
    {
      "cell_type": "code",
      "execution_count": 9,
      "outputs": [
        {
          "output_type": "stream",
          "name": "stdout",
          "text": [
            "Inicio de ejecución: 2023-08-04 20:25:55.409682-05:00\n",
            "\n",
            "Training RNN model on short sequences:\n",
            "Epoch 1/5\n",
            "157/157 [==============================] - 45s 247ms/step - loss: 0.5865 - accuracy: 0.6824 - val_loss: 0.4723 - val_accuracy: 0.8030\n",
            "Epoch 2/5\n",
            "157/157 [==============================] - 24s 154ms/step - loss: 0.3549 - accuracy: 0.8504 - val_loss: 0.3561 - val_accuracy: 0.8388\n",
            "Epoch 3/5\n",
            "157/157 [==============================] - 22s 140ms/step - loss: 0.2773 - accuracy: 0.8865 - val_loss: 0.3656 - val_accuracy: 0.8386\n",
            "Epoch 4/5\n",
            "157/157 [==============================] - 21s 133ms/step - loss: 0.2420 - accuracy: 0.9014 - val_loss: 0.3839 - val_accuracy: 0.8284\n",
            "Epoch 5/5\n",
            "157/157 [==============================] - 18s 113ms/step - loss: 0.2166 - accuracy: 0.9158 - val_loss: 0.4181 - val_accuracy: 0.8314\n",
            "782/782 [==============================] - 9s 12ms/step - loss: 0.4191 - accuracy: 0.8363\n",
            "Fin de ejecución: 2023-08-04 20:28:31.165663-05:00\n",
            "Tiempo total de ejecución: 0:02:35.755981\n"
          ]
        }
      ],
      "source": [
        "start_time = datetime.now(timezone(timedelta(hours=-5)))\n",
        "print(\"Inicio de ejecución:\", start_time)\n",
        "\n",
        "print(\"\\nTraining RNN model on short sequences:\")\n",
        "rnn_model_short = build_elman_rnn_model()\n",
        "loss_short, accuracy_short, history_short = train_and_evaluate_model(\n",
        "    rnn_model_short, x_train_short, y_train, x_test_short, y_test\n",
        ")\n",
        "\n",
        "end_time = datetime.now(timezone(timedelta(hours=-5)))\n",
        "print(\"Fin de ejecución:\", end_time)\n",
        "\n",
        "execution_time = end_time - start_time\n",
        "print(\"Tiempo total de ejecución:\", execution_time)"
      ],
      "metadata": {
        "colab": {
          "base_uri": "https://localhost:8080/"
        },
        "id": "GIfzIgn3YBPV",
        "outputId": "f56be18c-c670-4b2e-faf6-36f0e105e4f5"
      }
    },
    {
      "cell_type": "markdown",
      "source": [
        "6. Train and evaluate the Elman RNN model on long sequences."
      ],
      "metadata": {
        "collapsed": false,
        "id": "FiHOi6IoYBPW"
      }
    },
    {
      "cell_type": "code",
      "execution_count": 10,
      "outputs": [
        {
          "output_type": "stream",
          "name": "stdout",
          "text": [
            "Inicio de ejecución: 2023-08-04 20:28:31.177206-05:00\n",
            "\n",
            "Training Elman RNN model on long sequences:\n",
            "Epoch 1/5\n",
            "157/157 [==============================] - 111s 698ms/step - loss: 0.6525 - accuracy: 0.6208 - val_loss: 0.6005 - val_accuracy: 0.6950\n",
            "Epoch 2/5\n",
            "157/157 [==============================] - 96s 614ms/step - loss: 0.4481 - accuracy: 0.8051 - val_loss: 0.4224 - val_accuracy: 0.8128\n",
            "Epoch 3/5\n",
            "157/157 [==============================] - 91s 582ms/step - loss: 0.4621 - accuracy: 0.7962 - val_loss: 0.4658 - val_accuracy: 0.7726\n",
            "Epoch 4/5\n",
            "157/157 [==============================] - 90s 572ms/step - loss: 0.3460 - accuracy: 0.8556 - val_loss: 0.4385 - val_accuracy: 0.7996\n",
            "Epoch 5/5\n",
            "157/157 [==============================] - 90s 576ms/step - loss: 0.3065 - accuracy: 0.8712 - val_loss: 0.3673 - val_accuracy: 0.8504\n",
            "782/782 [==============================] - 35s 45ms/step - loss: 0.3696 - accuracy: 0.8454\n",
            "Fin de ejecución: 2023-08-04 20:37:11.456196-05:00\n",
            "Tiempo total de ejecución: 0:08:40.278990\n"
          ]
        }
      ],
      "source": [
        "start_time = datetime.now(timezone(timedelta(hours=-5)))\n",
        "print(\"Inicio de ejecución:\", start_time)\n",
        "\n",
        "print(\"\\nTraining Elman RNN model on long sequences:\")\n",
        "rnn_model_long = build_elman_rnn_model()\n",
        "loss_long, accuracy_long, history_long = train_and_evaluate_model(\n",
        "    rnn_model_long, x_train_long, y_train, x_test_long, y_test\n",
        ")\n",
        "\n",
        "end_time = datetime.now(timezone(timedelta(hours=-5)))\n",
        "print(\"Fin de ejecución:\", end_time)\n",
        "\n",
        "execution_time = end_time - start_time\n",
        "print(\"Tiempo total de ejecución:\", execution_time)"
      ],
      "metadata": {
        "colab": {
          "base_uri": "https://localhost:8080/"
        },
        "id": "qcNfkKzjYBPW",
        "outputId": "c07c6892-8cb8-4537-ff93-7adaacb53ee8"
      }
    },
    {
      "cell_type": "markdown",
      "source": [
        "7. Compare the results"
      ],
      "metadata": {
        "collapsed": false,
        "id": "-atLexRRYBPX"
      }
    },
    {
      "cell_type": "code",
      "execution_count": 16,
      "outputs": [
        {
          "output_type": "stream",
          "name": "stdout",
          "text": [
            "\n",
            "Results on Short Sequences:\n",
            "Loss: 0.4191, Accuracy: 0.8363\n",
            "\n",
            "Results on Long Sequences:\n",
            "Loss: 0.3696, Accuracy: 0.8454\n"
          ]
        }
      ],
      "source": [
        "print(\"\\nResults on Short Sequences:\")\n",
        "print(f\"Loss: {loss_short:.4f}, Accuracy: {accuracy_short:.4f}\")\n",
        "\n",
        "print(\"\\nResults on Long Sequences:\")\n",
        "print(f\"Loss: {loss_long:.4f}, Accuracy: {accuracy_long:.4f}\")"
      ],
      "metadata": {
        "colab": {
          "base_uri": "https://localhost:8080/"
        },
        "id": "CuqajkziYBPX",
        "outputId": "f62361f3-076d-4997-da73-62badce61fea"
      }
    },
    {
      "cell_type": "markdown",
      "source": [
        "8. Train and evaluate the Jordan RNN model on short sequences\n",
        "\n",
        "\n"
      ],
      "metadata": {
        "id": "JtJp5LjTwDzw"
      }
    },
    {
      "cell_type": "code",
      "source": [
        "start_time = datetime.now(timezone(timedelta(hours=-5)))\n",
        "print(\"Inicio de ejecución:\", start_time)\n",
        "\n",
        "print(\"\\nTraining Jordan RNN model on short sequences:\")\n",
        "rnn_model_short = build_jordan_rnn_model()\n",
        "loss_short, accuracy_short, history_short = train_and_evaluate_model(\n",
        "    rnn_model_short, x_train_short, y_train, x_test_short, y_test\n",
        ")\n",
        "\n",
        "end_time = datetime.now(timezone(timedelta(hours=-5)))\n",
        "print(\"Fin de ejecución:\", end_time)\n",
        "\n",
        "execution_time = end_time - start_time\n",
        "print(\"Tiempo total de ejecución:\", execution_time)"
      ],
      "metadata": {
        "colab": {
          "base_uri": "https://localhost:8080/"
        },
        "id": "rngfhDfdhRRG",
        "outputId": "869d435a-77b8-41b9-b0fa-a710bebb81eb"
      },
      "execution_count": 18,
      "outputs": [
        {
          "output_type": "stream",
          "name": "stdout",
          "text": [
            "Inicio de ejecución: 2023-08-04 20:44:34.228598-05:00\n",
            "\n",
            "Training Jordan RNN model on short sequences:\n",
            "Epoch 1/5\n",
            "157/157 [==============================] - 33s 203ms/step - loss: 0.6117 - accuracy: 0.7135 - val_loss: 0.4736 - val_accuracy: 0.7834\n",
            "Epoch 2/5\n",
            "157/157 [==============================] - 25s 161ms/step - loss: 0.3956 - accuracy: 0.8245 - val_loss: 0.3762 - val_accuracy: 0.8320\n",
            "Epoch 3/5\n",
            "157/157 [==============================] - 20s 127ms/step - loss: 0.3076 - accuracy: 0.8712 - val_loss: 0.3663 - val_accuracy: 0.8356\n",
            "Epoch 4/5\n",
            "157/157 [==============================] - 20s 129ms/step - loss: 0.2538 - accuracy: 0.8981 - val_loss: 0.3851 - val_accuracy: 0.8328\n",
            "Epoch 5/5\n",
            "157/157 [==============================] - 19s 122ms/step - loss: 0.2180 - accuracy: 0.9150 - val_loss: 0.3887 - val_accuracy: 0.8312\n",
            "782/782 [==============================] - 8s 10ms/step - loss: 0.4021 - accuracy: 0.8272\n",
            "Fin de ejecución: 2023-08-04 20:46:42.695749-05:00\n",
            "Tiempo total de ejecución: 0:02:08.467151\n"
          ]
        }
      ]
    },
    {
      "cell_type": "markdown",
      "source": [
        "9. Train and evaluate the Jordan RNN model on long sequences"
      ],
      "metadata": {
        "id": "DiSj2UwFwRrP"
      }
    },
    {
      "cell_type": "code",
      "source": [
        "start_time = datetime.now(timezone(timedelta(hours=-5)))\n",
        "print(\"Inicio de ejecución:\", start_time)\n",
        "\n",
        "print(\"\\nTraining Jordan RNN model on long sequences:\")\n",
        "rnn_model_long = build_jordan_rnn_model()\n",
        "loss_long, accuracy_long, history_long = train_and_evaluate_model(\n",
        "    rnn_model_long, x_train_long, y_train, x_test_long, y_test\n",
        ")\n",
        "\n",
        "end_time = datetime.now(timezone(timedelta(hours=-5)))\n",
        "print(\"Fin de ejecución:\", end_time)\n",
        "\n",
        "execution_time = end_time - start_time\n",
        "print(\"Tiempo total de ejecución:\", execution_time)"
      ],
      "metadata": {
        "colab": {
          "base_uri": "https://localhost:8080/"
        },
        "id": "enwyyAx_mg84",
        "outputId": "5c0bdaf3-2821-4126-b4b5-0513d23943c2"
      },
      "execution_count": 19,
      "outputs": [
        {
          "output_type": "stream",
          "name": "stdout",
          "text": [
            "Inicio de ejecución: 2023-08-04 20:46:42.711087-05:00\n",
            "\n",
            "Training Jordan RNN model on long sequences:\n",
            "Epoch 1/5\n",
            "157/157 [==============================] - 103s 645ms/step - loss: 0.6075 - accuracy: 0.7260 - val_loss: 0.4421 - val_accuracy: 0.8074\n",
            "Epoch 2/5\n",
            "157/157 [==============================] - 95s 606ms/step - loss: 0.3689 - accuracy: 0.8421 - val_loss: 0.3332 - val_accuracy: 0.8604\n",
            "Epoch 3/5\n",
            "157/157 [==============================] - 93s 591ms/step - loss: 0.2874 - accuracy: 0.8851 - val_loss: 0.3104 - val_accuracy: 0.8692\n",
            "Epoch 4/5\n",
            "157/157 [==============================] - 90s 575ms/step - loss: 0.2138 - accuracy: 0.9187 - val_loss: 0.3145 - val_accuracy: 0.8716\n",
            "Epoch 5/5\n",
            "157/157 [==============================] - 89s 565ms/step - loss: 0.1817 - accuracy: 0.9337 - val_loss: 0.3198 - val_accuracy: 0.8688\n",
            "782/782 [==============================] - 36s 46ms/step - loss: 0.3282 - accuracy: 0.8629\n",
            "Fin de ejecución: 2023-08-04 20:55:46.932527-05:00\n",
            "Tiempo total de ejecución: 0:09:04.221440\n"
          ]
        }
      ]
    },
    {
      "cell_type": "markdown",
      "source": [
        "10. Compare the results"
      ],
      "metadata": {
        "id": "L-RshCdewapx"
      }
    },
    {
      "cell_type": "code",
      "source": [
        "print(\"\\nResults on Short Sequences:\")\n",
        "print(f\"Loss: {loss_short:.4f}, Accuracy: {accuracy_short:.4f}\")\n",
        "\n",
        "print(\"\\nResults on Long Sequences:\")\n",
        "print(f\"Loss: {loss_long:.4f}, Accuracy: {accuracy_long:.4f}\")"
      ],
      "metadata": {
        "colab": {
          "base_uri": "https://localhost:8080/"
        },
        "id": "fm-cxHNHsKQI",
        "outputId": "023c4584-a553-4edc-816f-336b985376d4"
      },
      "execution_count": 21,
      "outputs": [
        {
          "output_type": "stream",
          "name": "stdout",
          "text": [
            "\n",
            "Results on Short Sequences:\n",
            "Loss: 0.4021, Accuracy: 0.8272\n",
            "\n",
            "Results on Long Sequences:\n",
            "Loss: 0.3282, Accuracy: 0.8629\n"
          ]
        }
      ]
    },
    {
      "cell_type": "markdown",
      "source": [
        "11. Train and evaluate the Bidirectional RNN model on short sequences"
      ],
      "metadata": {
        "id": "bMZfqFBowf-J"
      }
    },
    {
      "cell_type": "code",
      "source": [
        "start_time = datetime.now(timezone(timedelta(hours=-5)))\n",
        "print(\"Inicio de ejecución:\", start_time)\n",
        "\n",
        "print(\"\\nTraining Bidirectional RNN model on short sequences:\")\n",
        "rnn_model_short = build_bidirectional_rnn_model()\n",
        "loss_short, accuracy_short, history_short = train_and_evaluate_model(\n",
        "    rnn_model_short, x_train_short, y_train, x_test_short, y_test\n",
        ")\n",
        "\n",
        "end_time = datetime.now(timezone(timedelta(hours=-5)))\n",
        "print(\"Fin de ejecución:\", end_time)\n",
        "\n",
        "execution_time = end_time - start_time\n",
        "print(\"Tiempo total de ejecución:\", execution_time)"
      ],
      "metadata": {
        "colab": {
          "base_uri": "https://localhost:8080/"
        },
        "id": "EFYYripSarpw",
        "outputId": "2d8802b4-49d6-4ce8-dab9-b830e760ba93"
      },
      "execution_count": 22,
      "outputs": [
        {
          "output_type": "stream",
          "name": "stdout",
          "text": [
            "Inicio de ejecución: 2023-08-04 20:58:48.886321-05:00\n",
            "\n",
            "Training Bidirectional RNN model on short sequences:\n",
            "Epoch 1/5\n",
            "157/157 [==============================] - 50s 304ms/step - loss: 0.6482 - accuracy: 0.6119 - val_loss: 0.5351 - val_accuracy: 0.7792\n",
            "Epoch 2/5\n",
            "157/157 [==============================] - 36s 228ms/step - loss: 0.3534 - accuracy: 0.8497 - val_loss: 0.3731 - val_accuracy: 0.8328\n",
            "Epoch 3/5\n",
            "157/157 [==============================] - 32s 207ms/step - loss: 0.2623 - accuracy: 0.8949 - val_loss: 0.3442 - val_accuracy: 0.8504\n",
            "Epoch 4/5\n",
            "157/157 [==============================] - 35s 226ms/step - loss: 0.2265 - accuracy: 0.9103 - val_loss: 0.3552 - val_accuracy: 0.8440\n",
            "Epoch 5/5\n",
            "157/157 [==============================] - 33s 208ms/step - loss: 0.1884 - accuracy: 0.9277 - val_loss: 0.3985 - val_accuracy: 0.8388\n",
            "782/782 [==============================] - 14s 18ms/step - loss: 0.4125 - accuracy: 0.8403\n",
            "Fin de ejecución: 2023-08-04 21:02:27.182522-05:00\n",
            "Tiempo total de ejecución: 0:03:38.296201\n"
          ]
        }
      ]
    },
    {
      "cell_type": "markdown",
      "source": [
        "12. Train and evaluate the Bidirectional RNN model on long sequences"
      ],
      "metadata": {
        "id": "ejGwEscTwk-u"
      }
    },
    {
      "cell_type": "code",
      "source": [
        "start_time = datetime.now()\n",
        "print(\"Inicio de ejecución:\", start_time)\n",
        "print(\"\\nTraining Bidirectional RNN model on long sequences:\")\n",
        "rnn_model_long = build_bidirectional_rnn_model()\n",
        "loss_long, accuracy_long, history_long = train_and_evaluate_model(\n",
        "    rnn_model_long, x_train_long, y_train, x_test_long, y_test\n",
        ")\n",
        "end_time = datetime.now()\n",
        "print(\"Fin de ejecución:\", end_time)\n",
        "\n",
        "execution_time = end_time - start_time\n",
        "print(\"Tiempo total de ejecución:\", execution_time)"
      ],
      "metadata": {
        "colab": {
          "base_uri": "https://localhost:8080/"
        },
        "id": "w8sojk1ea1lf",
        "outputId": "24b6ea05-0550-4d84-c3e7-90df23a3bc19"
      },
      "execution_count": 23,
      "outputs": [
        {
          "output_type": "stream",
          "name": "stdout",
          "text": [
            "Inicio de ejecución: 2023-08-05 02:02:27.200772\n",
            "\n",
            "Training Bidirectional RNN model on long sequences:\n",
            "Epoch 1/5\n",
            "157/157 [==============================] - 174s 1s/step - loss: 0.6007 - accuracy: 0.6704 - val_loss: 0.4102 - val_accuracy: 0.8220\n",
            "Epoch 2/5\n",
            "157/157 [==============================] - 166s 1s/step - loss: 0.4285 - accuracy: 0.8316 - val_loss: 0.3683 - val_accuracy: 0.8476\n",
            "Epoch 3/5\n",
            "157/157 [==============================] - 157s 998ms/step - loss: 0.2599 - accuracy: 0.8952 - val_loss: 0.3246 - val_accuracy: 0.8740\n",
            "Epoch 4/5\n",
            "157/157 [==============================] - 159s 1s/step - loss: 0.2206 - accuracy: 0.9153 - val_loss: 0.3088 - val_accuracy: 0.8706\n",
            "Epoch 5/5\n",
            "157/157 [==============================] - 162s 1s/step - loss: 76.1394 - accuracy: 0.9081 - val_loss: 0.3313 - val_accuracy: 0.8668\n",
            "782/782 [==============================] - 66s 85ms/step - loss: 0.3429 - accuracy: 0.8644\n",
            "Fin de ejecución: 2023-08-05 02:18:13.509753\n",
            "Tiempo total de ejecución: 0:15:46.308981\n"
          ]
        }
      ]
    },
    {
      "cell_type": "markdown",
      "source": [
        "13. Compare the results"
      ],
      "metadata": {
        "id": "gqXyjalbwrZJ"
      }
    },
    {
      "cell_type": "code",
      "source": [
        "print(\"\\nResults on Short Sequences:\")\n",
        "print(f\"Loss: {loss_short:.4f}, Accuracy: {accuracy_short:.4f}\")\n",
        "\n",
        "print(\"\\nResults on Long Sequences:\")\n",
        "print(f\"Loss: {loss_long:.4f}, Accuracy: {accuracy_long:.4f}\")"
      ],
      "metadata": {
        "colab": {
          "base_uri": "https://localhost:8080/"
        },
        "id": "4lJGodSka5uH",
        "outputId": "601c4784-424f-4bcd-f3ac-ada877b2bae8"
      },
      "execution_count": 25,
      "outputs": [
        {
          "output_type": "stream",
          "name": "stdout",
          "text": [
            "\n",
            "Results on Short Sequences:\n",
            "Loss: 0.4125, Accuracy: 0.8403\n",
            "\n",
            "Results on Long Sequences:\n",
            "Loss: 0.3429, Accuracy: 0.8644\n"
          ]
        }
      ]
    },
    {
      "cell_type": "markdown",
      "source": [
        "14. Comparación de Precisión:\n",
        "\n",
        "Se observaron diferencias en la precisión entre las secuencias cortas y largas para cada tipo de RNN. Los resultados son los siguientes:\n",
        "\n",
        "Elman RNN:\n",
        "\n",
        "Precisión en secuencias cortas: 0.8363\n",
        "\n",
        "Precisión en secuencias largas: 0.8454\n",
        "\n",
        "Jordan RNN:\n",
        "\n",
        "Precisión en secuencias cortas: 0.8272\n",
        "\n",
        "Precisión en secuencias largas: 0.8629\n",
        "\n",
        "Bidireccional RNN:\n",
        "\n",
        "Precisión en secuencias cortas: 0.8403\n",
        "\n",
        "Precisión en secuencias largas: 0.8644\n",
        "\n",
        "Estos resultados sugieren que la arquitectura Jordan RNN muestra la mayor mejora en la precisión al trabajar con secuencias largas en comparación con las cortas. Sin embargo, las otras arquitecturas también demuestran mejoras, pero en menor medida."
      ],
      "metadata": {
        "id": "9LMkxXgNwwWR"
      }
    },
    {
      "cell_type": "markdown",
      "source": [
        "15. Tiempo de Ejecución:\n",
        "\n",
        "Se calcularon los tiempos de entrenamiento para secuencias cortas y largas en cada arquitectura. Los resultados son los siguientes:\n",
        "\n",
        "Elman RNN:\n",
        "\n",
        "Tiempo de entrenamiento en secuencias cortas: 0:02:35.755981\n",
        "\n",
        "Tiempo de entrenamiento en secuencias largas: 0:08:40.278990\n",
        "\n",
        "Jordan RNN:\n",
        "\n",
        "Tiempo de entrenamiento en secuencias cortas: 0:02:08.467151\n",
        "\n",
        "Tiempo de entrenamiento en secuencias largas: 0:09:04.221440\n",
        "\n",
        "Bidireccional RNN:\n",
        "\n",
        "Tiempo de entrenamiento en secuencias cortas: 0:03:38.296201\n",
        "\n",
        "Tiempo de entrenamiento en secuencias largas: 0:15:46.308981\n",
        "\n",
        "Se observa que la arquitectura Bidireccional RNN tiende a requerir más tiempo de entrenamiento, especialmente en secuencias largas, en comparación con las otras dos arquitecturas."
      ],
      "metadata": {
        "id": "boBsrQu-xYxp"
      }
    },
    {
      "cell_type": "markdown",
      "source": [
        "16. Fortalezas y Debilidades:\n",
        "\n",
        "En general, las arquitecturas Elman, Jordan y Bidireccional RNN demuestran ser capaces de aprender y generalizar patrones en las reseñas de películas. Sin embargo, se observan algunas diferencias:\n",
        "\n",
        "- Elman RNN muestra un buen desempeño en ambas secuencias, con una precisión ligeramente mayor en secuencias largas.\n",
        "- Jordan RNN muestra una mejora notable en la precisión al trabajar con secuencias largas, sugiriendo una mejor captura de dependencias a largo plazo.\n",
        "- Bidireccional RNN tiene una precisión competitiva y puede beneficiarse de un análisis más profundo de sus tiempos de entrenamiento.\n",
        "\n",
        "En general, la elección de la arquitectura depende de la longitud de la secuencia y la tolerancia al tiempo de entrenamiento.\n",
        "\n"
      ],
      "metadata": {
        "id": "AHWXN8Drxq5_"
      }
    }
  ],
  "metadata": {
    "kernelspec": {
      "display_name": "Python 3",
      "name": "python3"
    },
    "language_info": {
      "codemirror_mode": {
        "name": "ipython",
        "version": 2
      },
      "file_extension": ".py",
      "mimetype": "text/x-python",
      "name": "python",
      "nbconvert_exporter": "python",
      "pygments_lexer": "ipython2",
      "version": "2.7.6"
    },
    "colab": {
      "provenance": [],
      "gpuType": "T4",
      "toc_visible": true
    },
    "accelerator": "GPU"
  },
  "nbformat": 4,
  "nbformat_minor": 0
}