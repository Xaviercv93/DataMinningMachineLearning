{
 "cells": [
  {
   "cell_type": "code",
   "execution_count": 3,
   "id": "9bed2bb8",
   "metadata": {},
   "outputs": [
    {
     "name": "stderr",
     "output_type": "stream",
     "text": [
      "Warning message in install.packages(\"calendR\"):\n",
      "\"'lib = \"C:/ProgramData/anaconda3/Lib/R/library\"' is not writable\""
     ]
    },
    {
     "ename": "ERROR",
     "evalue": "Error in install.packages(\"calendR\"): unable to install packages\n",
     "output_type": "error",
     "traceback": [
      "Error in install.packages(\"calendR\"): unable to install packages\nTraceback:\n",
      "1. install.packages(\"calendR\")",
      "2. stop(\"unable to install packages\")"
     ]
    }
   ],
   "source": [
    "install.packages(\"calendR\")\n"
   ]
  },
  {
   "cell_type": "code",
   "execution_count": 2,
   "id": "43c482dc",
   "metadata": {},
   "outputs": [
    {
     "ename": "ERROR",
     "evalue": "Error in library(\"calendR\"): there is no package called 'calendR'\n",
     "output_type": "error",
     "traceback": [
      "Error in library(\"calendR\"): there is no package called 'calendR'\nTraceback:\n",
      "1. library(\"calendR\")"
     ]
    }
   ],
   "source": [
    "library('calendR')\n"
   ]
  },
  {
   "cell_type": "code",
   "execution_count": null,
   "id": "74ab56d5",
   "metadata": {},
   "outputs": [],
   "source": []
  }
 ],
 "metadata": {
  "kernelspec": {
   "display_name": "R",
   "language": "R",
   "name": "ir"
  },
  "language_info": {
   "codemirror_mode": "r",
   "file_extension": ".r",
   "mimetype": "text/x-r-source",
   "name": "R",
   "pygments_lexer": "r",
   "version": "3.6.1"
  }
 },
 "nbformat": 4,
 "nbformat_minor": 5
}
