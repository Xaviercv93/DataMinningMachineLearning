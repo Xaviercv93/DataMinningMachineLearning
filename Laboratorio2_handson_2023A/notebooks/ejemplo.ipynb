{
 "cells": [
  {
   "cell_type": "code",
   "execution_count": 14,
   "id": "6fc37d6b",
   "metadata": {},
   "outputs": [
    {
     "ename": "ERROR",
     "evalue": "Error in library(\"tidyimpute\"): there is no package called 'tidyimpute'\n",
     "output_type": "error",
     "traceback": [
      "Error in library(\"tidyimpute\"): there is no package called 'tidyimpute'\nTraceback:\n",
      "1. library(\"tidyimpute\")"
     ]
    }
   ],
   "source": [
    "library('tidyimpute')"
   ]
  },
  {
   "cell_type": "code",
   "execution_count": null,
   "id": "994ce8be",
   "metadata": {},
   "outputs": [],
   "source": []
  },
  {
   "cell_type": "code",
   "execution_count": null,
   "id": "378cc8b9",
   "metadata": {},
   "outputs": [],
   "source": []
  }
 ],
 "metadata": {
  "kernelspec": {
   "display_name": "R",
   "language": "R",
   "name": "ir"
  },
  "language_info": {
   "codemirror_mode": "r",
   "file_extension": ".r",
   "mimetype": "text/x-r-source",
   "name": "R",
   "pygments_lexer": "r",
   "version": "3.6.1"
  }
 },
 "nbformat": 4,
 "nbformat_minor": 5
}
