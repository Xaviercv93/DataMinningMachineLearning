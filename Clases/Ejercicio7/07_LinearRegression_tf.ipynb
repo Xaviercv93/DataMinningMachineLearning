{
 "cells": [
  {
   "cell_type": "markdown",
   "source": [
    "# 7 Linear Regression with TensorFlow using the California Housing Dataset\n",
    "\n",
    "The goal of this exercise is to implement a linear regression model using TensorFlow to predict house prices based on the California Housing Dataset. The dataset contains various features such as average income, housing average age, and more. Your task is to build a linear regression model and evaluate its performance."
   ],
   "metadata": {
    "collapsed": false
   }
  },
  {
   "cell_type": "markdown",
   "source": [
    "Import the required libraries:"
   ],
   "metadata": {
    "collapsed": false
   }
  },
  {
   "cell_type": "code",
   "execution_count": 1,
   "outputs": [],
   "source": [
    "import tensorflow as tf\n",
    "import pandas as pd\n",
    "from sklearn.datasets import fetch_california_housing\n",
    "from sklearn.model_selection import train_test_split\n",
    "from sklearn.preprocessing import StandardScaler\n",
    "import matplotlib.pyplot as plt"
   ],
   "metadata": {
    "collapsed": false,
    "ExecuteTime": {
     "end_time": "2023-07-14T16:31:03.452967300Z",
     "start_time": "2023-07-14T16:30:56.587969200Z"
    }
   }
  },
  {
   "cell_type": "markdown",
   "source": [
    "Load the California Housing Dataset"
   ],
   "metadata": {
    "collapsed": false
   }
  },
  {
   "cell_type": "code",
   "execution_count": 2,
   "outputs": [
    {
     "name": "stdout",
     "output_type": "stream",
     "text": [
      "   MedInc  HouseAge  AveRooms  AveBedrms  Population  AveOccup  Latitude  \\\n",
      "0  8.3252      41.0  6.984127   1.023810       322.0  2.555556     37.88   \n",
      "1  8.3014      21.0  6.238137   0.971880      2401.0  2.109842     37.86   \n",
      "2  7.2574      52.0  8.288136   1.073446       496.0  2.802260     37.85   \n",
      "3  5.6431      52.0  5.817352   1.073059       558.0  2.547945     37.85   \n",
      "4  3.8462      52.0  6.281853   1.081081       565.0  2.181467     37.85   \n",
      "\n",
      "   Longitude  \n",
      "0    -122.23  \n",
      "1    -122.22  \n",
      "2    -122.24  \n",
      "3    -122.25  \n",
      "4    -122.25  \n"
     ]
    }
   ],
   "source": [
    "raw = fetch_california_housing()\n",
    "X = pd.DataFrame(data=raw['data'], columns=raw['feature_names'])\n",
    "print(X.head())\n",
    "y = pd.Series(raw['target'])"
   ],
   "metadata": {
    "collapsed": false,
    "ExecuteTime": {
     "end_time": "2023-07-14T16:33:50.242615200Z",
     "start_time": "2023-07-14T16:33:47.283615600Z"
    }
   }
  },
  {
   "cell_type": "markdown",
   "source": [
    "Preprocess the data:\n",
    "* Normalize the features using the mean and standard deviation.\n",
    "* Split the dataset into training and testing sets (e.g., 80% for training, 20% for testing)."
   ],
   "metadata": {
    "collapsed": false
   }
  },
  {
   "cell_type": "code",
   "execution_count": 3,
   "outputs": [
    {
     "name": "stdout",
     "output_type": "stream",
     "text": [
      "[[ 2.34476576  0.98214266  0.62855945 -0.15375759 -0.9744286  -0.04959654\n",
      "   1.05254828 -1.32783522]\n",
      " [ 2.33223796 -0.60701891  0.32704136 -0.26333577  0.86143887 -0.09251223\n",
      "   1.04318455 -1.32284391]\n",
      " [ 1.7826994   1.85618152  1.15562047 -0.04901636 -0.82077735 -0.02584253\n",
      "   1.03850269 -1.33282653]\n",
      " [ 0.93296751  1.85618152  0.15696608 -0.04983292 -0.76602806 -0.0503293\n",
      "   1.03850269 -1.33781784]\n",
      " [-0.012881    1.85618152  0.3447108  -0.03290586 -0.75984669 -0.08561576\n",
      "   1.03850269 -1.33781784]]\n"
     ]
    }
   ],
   "source": [
    "scaler = StandardScaler()\n",
    "X = scaler.fit_transform(X)\n",
    "# Note that X is now an ndarray\n",
    "print(X[:5, :])\n",
    "X_train, X_test, y_train, y_test = train_test_split(X, y, test_size=0.2, random_state=1)"
   ],
   "metadata": {
    "collapsed": false,
    "ExecuteTime": {
     "end_time": "2023-07-14T16:33:54.069126400Z",
     "start_time": "2023-07-14T16:33:54.040127Z"
    }
   }
  },
  {
   "cell_type": "markdown",
   "source": [
    "Define the TensorFlow graph:\n",
    "* Create placeholders for the input features (X) and target variable (y).\n",
    "* Create variables for the model's weights (W) and bias (b).\n",
    "* Define the linear regression model using the equation: y_pred = X * W + b.\n",
    "* Define the loss function as the mean squared error between the predicted values and the true values.\n",
    "* Choose an optimizer (e.g., Gradient Descent) to minimize the loss function."
   ],
   "metadata": {
    "collapsed": false
   }
  },
  {
   "cell_type": "code",
   "execution_count": 4,
   "outputs": [],
   "source": [
    "tf.compat.v1.disable_eager_execution()\n",
    "X_placeholder = tf.compat.v1.placeholder(tf.float32, shape=[None, X_train.shape[1]])\n",
    "y_placeholder = tf.compat.v1.placeholder(tf.float32, shape=[None])\n",
    "\n",
    "W = tf.Variable(tf.compat.v1.random_normal([X_train.shape[1], 1]))\n",
    "b = tf.Variable(tf.compat.v1.random_normal([1]))\n",
    "\n",
    "y_pred = tf.matmul(X_placeholder, W) + b\n",
    "\n",
    "loss = tf.reduce_mean(tf.square(y_pred - y_placeholder))\n",
    "\n",
    "optimizer = tf.compat.v1.train.GradientDescentOptimizer(learning_rate=0.01)\n",
    "train_op = optimizer.minimize(loss)"
   ],
   "metadata": {
    "collapsed": false,
    "ExecuteTime": {
     "end_time": "2023-07-14T16:34:02.337126300Z",
     "start_time": "2023-07-14T16:34:02.258126900Z"
    }
   }
  },
  {
   "cell_type": "markdown",
   "source": [
    "Train the model:\n",
    "* Initialize TensorFlow session.\n",
    "* Initialize the model's variables.\n",
    "* Set the number of training epochs and the learning rate.\n",
    "* For each epoch, iterate through the training dataset and update the model's parameters using the optimizer.\n",
    "* Print the training loss at regular intervals."
   ],
   "metadata": {
    "collapsed": false
   }
  },
  {
   "cell_type": "code",
   "execution_count": 14,
   "outputs": [
    {
     "name": "stdout",
     "output_type": "stream",
     "text": [
      "Epoch 0: Training Loss = 1.7532774209976196\n",
      "Epoch 1: Training Loss = 1.5345040559768677\n",
      "Epoch 2: Training Loss = 1.4316670894622803\n",
      "Epoch 3: Training Loss = 1.383592963218689\n",
      "Epoch 4: Training Loss = 1.3605523109436035\n",
      "Epoch 5: Training Loss = 1.34916353225708\n",
      "Epoch 6: Training Loss = 1.34336519241333\n",
      "Epoch 7: Training Loss = 1.340332269668579\n",
      "Epoch 8: Training Loss = 1.3387062549591064\n",
      "Epoch 9: Training Loss = 1.3378143310546875\n",
      "Epoch 10: Training Loss = 1.3373148441314697\n",
      "Epoch 11: Training Loss = 1.3370290994644165\n",
      "Epoch 12: Training Loss = 1.336862564086914\n",
      "Epoch 13: Training Loss = 1.3367631435394287\n",
      "Epoch 14: Training Loss = 1.336702823638916\n",
      "Epoch 15: Training Loss = 1.336665153503418\n",
      "Epoch 16: Training Loss = 1.3366409540176392\n",
      "Epoch 17: Training Loss = 1.3366254568099976\n",
      "Epoch 18: Training Loss = 1.3366152048110962\n",
      "Epoch 19: Training Loss = 1.3366081714630127\n",
      "Epoch 20: Training Loss = 1.3366031646728516\n",
      "Epoch 21: Training Loss = 1.3365998268127441\n",
      "Epoch 22: Training Loss = 1.3365973234176636\n",
      "Epoch 23: Training Loss = 1.3365955352783203\n",
      "Epoch 24: Training Loss = 1.3365943431854248\n",
      "Epoch 25: Training Loss = 1.3365932703018188\n",
      "Epoch 26: Training Loss = 1.3365927934646606\n",
      "Epoch 27: Training Loss = 1.3365923166275024\n",
      "Epoch 28: Training Loss = 1.3365917205810547\n",
      "Epoch 29: Training Loss = 1.336591362953186\n",
      "Epoch 30: Training Loss = 1.336591124534607\n",
      "Epoch 31: Training Loss = 1.3365908861160278\n",
      "Epoch 32: Training Loss = 1.3365907669067383\n",
      "Epoch 33: Training Loss = 1.3365907669067383\n",
      "Epoch 34: Training Loss = 1.3365907669067383\n",
      "Epoch 35: Training Loss = 1.3365906476974487\n",
      "Epoch 36: Training Loss = 1.3365906476974487\n",
      "Epoch 37: Training Loss = 1.3365906476974487\n",
      "Epoch 38: Training Loss = 1.3365905284881592\n",
      "Epoch 39: Training Loss = 1.3365905284881592\n",
      "Epoch 40: Training Loss = 1.3365905284881592\n",
      "Epoch 41: Training Loss = 1.3365905284881592\n",
      "Epoch 42: Training Loss = 1.3365905284881592\n",
      "Epoch 43: Training Loss = 1.3365905284881592\n",
      "Epoch 44: Training Loss = 1.3365905284881592\n",
      "Epoch 45: Training Loss = 1.3365905284881592\n",
      "Epoch 46: Training Loss = 1.3365905284881592\n",
      "Epoch 47: Training Loss = 1.3365905284881592\n",
      "Epoch 48: Training Loss = 1.3365905284881592\n",
      "Epoch 49: Training Loss = 1.3365905284881592\n",
      "Epoch 50: Training Loss = 1.3365905284881592\n",
      "Epoch 51: Training Loss = 1.3365905284881592\n",
      "Epoch 52: Training Loss = 1.3365905284881592\n",
      "Epoch 53: Training Loss = 1.3365905284881592\n",
      "Epoch 54: Training Loss = 1.3365905284881592\n",
      "Epoch 55: Training Loss = 1.3365905284881592\n",
      "Epoch 56: Training Loss = 1.3365905284881592\n",
      "Epoch 57: Training Loss = 1.3365905284881592\n",
      "Epoch 58: Training Loss = 1.3365905284881592\n",
      "Epoch 59: Training Loss = 1.3365905284881592\n",
      "Epoch 60: Training Loss = 1.3365905284881592\n",
      "Epoch 61: Training Loss = 1.3365905284881592\n",
      "Epoch 62: Training Loss = 1.3365905284881592\n",
      "Epoch 63: Training Loss = 1.3365905284881592\n",
      "Test Loss: 1.3135406970977783\n"
     ]
    }
   ],
   "source": [
    "batch_size = 56\n",
    "num_epochs = 64\n",
    "\n",
    "with tf.compat.v1.Session() as tfsession:\n",
    "    tfsession.run(tf.compat.v1.global_variables_initializer())\n",
    "\n",
    "    for epoch in range(num_epochs):\n",
    "        for i in range(0, X_train.shape[0], batch_size):\n",
    "            batch_X = X_train[i:i+batch_size]\n",
    "            batch_y = y_train[i:i+batch_size]\n",
    "            tfsession.run(train_op, feed_dict={X_placeholder: batch_X, y_placeholder: batch_y})\n",
    "\n",
    "        train_loss = tfsession.run(loss, feed_dict={X_placeholder: X_train, y_placeholder: y_train})\n",
    "        print(f\"Epoch {epoch}: Training Loss = {train_loss}\")\n",
    "\n",
    "\n",
    "    test_loss = tfsession.run(loss, feed_dict={X_placeholder: X_test, y_placeholder: y_test})\n",
    "    print(f\"Test Loss: {test_loss}\")\n",
    "\n",
    "    y_pred_test = tfsession.run(y_pred, feed_dict={X_placeholder: X_test})"
   ],
   "metadata": {
    "collapsed": false,
    "ExecuteTime": {
     "end_time": "2023-07-14T16:39:16.044170800Z",
     "start_time": "2023-07-14T16:38:59.957660800Z"
    }
   }
  },
  {
   "cell_type": "markdown",
   "source": [
    "Evaluate the model:\n",
    "* Use the trained model to make predictions on the test dataset.\n",
    "* Calculate the mean squared error (MSE) between the predicted and true values.\n",
    "* Print the MSE as a measure of the model's performance."
   ],
   "metadata": {
    "collapsed": false
   }
  },
  {
   "cell_type": "code",
   "execution_count": 15,
   "outputs": [
    {
     "data": {
      "text/plain": "1.2784725291964272"
     },
     "execution_count": 15,
     "metadata": {},
     "output_type": "execute_result"
    }
   ],
   "source": [
    "from sklearn.metrics import mean_squared_error\n",
    "mean_squared_error(y_test, y_pred_test)"
   ],
   "metadata": {
    "collapsed": false,
    "ExecuteTime": {
     "end_time": "2023-07-14T16:39:20.544169100Z",
     "start_time": "2023-07-14T16:39:20.523174700Z"
    }
   }
  },
  {
   "cell_type": "markdown",
   "source": [
    "* Plot the differences between True and Predicted values"
   ],
   "metadata": {
    "collapsed": false
   }
  },
  {
   "cell_type": "code",
   "execution_count": 16,
   "outputs": [
    {
     "data": {
      "text/plain": "<Figure size 640x480 with 1 Axes>",
      "image/png": "[encoded data removed]"
     },
     "metadata": {},
     "output_type": "display_data"
    }
   ],
   "source": [
    "plt.scatter(y_test, y_pred_test)\n",
    "plt.xlabel(\"True Values\")\n",
    "plt.ylabel(\"Predicted Values\")\n",
    "plt.title(\"Linear Regression: True vs Predicted Values\")\n",
    "plt.show()"
   ],
   "metadata": {
    "collapsed": false,
    "ExecuteTime": {
     "end_time": "2023-07-14T16:39:26.340170Z",
     "start_time": "2023-07-14T16:39:26.221170800Z"
    }
   }
  },
  {
   "cell_type": "code",
   "execution_count": null,
   "outputs": [],
   "source": [],
   "metadata": {
    "collapsed": false
   }
  }
 ],
 "metadata": {
  "kernelspec": {
   "display_name": "Python 3",
   "language": "python",
   "name": "python3"
  },
  "language_info": {
   "codemirror_mode": {
    "name": "ipython",
    "version": 2
   },
   "file_extension": ".py",
   "mimetype": "text/x-python",
   "name": "python",
   "nbconvert_exporter": "python",
   "pygments_lexer": "ipython2",
   "version": "2.7.6"
  }
 },
 "nbformat": 4,
 "nbformat_minor": 0
}
